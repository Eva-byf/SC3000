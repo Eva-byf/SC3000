{
 "cells": [
  {
   "cell_type": "markdown",
   "metadata": {},
   "source": [
    "# Set up the environment\n"
   ]
  },
  {
   "cell_type": "code",
   "execution_count": 107,
   "metadata": {},
   "outputs": [
    {
     "name": "stdout",
     "output_type": "stream",
     "text": [
      "Requirement already satisfied: gym in c:\\users\\bai yifan\\appdata\\local\\programs\\python\\python311\\lib\\site-packages (0.26.2)\n",
      "Requirement already satisfied: numpy in c:\\users\\bai yifan\\appdata\\local\\programs\\python\\python311\\lib\\site-packages (1.26.4)\n",
      "Requirement already satisfied: matplotlib in c:\\users\\bai yifan\\appdata\\local\\programs\\python\\python311\\lib\\site-packages (3.10.1)\n",
      "Requirement already satisfied: moviepy in c:\\users\\bai yifan\\appdata\\local\\programs\\python\\python311\\lib\\site-packages (2.1.2)\n",
      "Requirement already satisfied: cloudpickle>=1.2.0 in c:\\users\\bai yifan\\appdata\\local\\programs\\python\\python311\\lib\\site-packages (from gym) (3.1.1)\n",
      "Requirement already satisfied: gym_notices>=0.0.4 in c:\\users\\bai yifan\\appdata\\local\\programs\\python\\python311\\lib\\site-packages (from gym) (0.0.8)\n",
      "Requirement already satisfied: contourpy>=1.0.1 in c:\\users\\bai yifan\\appdata\\local\\programs\\python\\python311\\lib\\site-packages (from matplotlib) (1.2.0)\n",
      "Requirement already satisfied: cycler>=0.10 in c:\\users\\bai yifan\\appdata\\local\\programs\\python\\python311\\lib\\site-packages (from matplotlib) (0.12.1)\n",
      "Requirement already satisfied: fonttools>=4.22.0 in c:\\users\\bai yifan\\appdata\\local\\programs\\python\\python311\\lib\\site-packages (from matplotlib) (4.50.0)\n",
      "Requirement already satisfied: kiwisolver>=1.3.1 in c:\\users\\bai yifan\\appdata\\local\\programs\\python\\python311\\lib\\site-packages (from matplotlib) (1.4.5)\n",
      "Requirement already satisfied: packaging>=20.0 in c:\\users\\bai yifan\\appdata\\local\\programs\\python\\python311\\lib\\site-packages (from matplotlib) (24.0)\n",
      "Requirement already satisfied: pillow>=8 in c:\\users\\bai yifan\\appdata\\local\\programs\\python\\python311\\lib\\site-packages (from matplotlib) (10.2.0)\n",
      "Requirement already satisfied: pyparsing>=2.3.1 in c:\\users\\bai yifan\\appdata\\local\\programs\\python\\python311\\lib\\site-packages (from matplotlib) (3.1.2)\n",
      "Requirement already satisfied: python-dateutil>=2.7 in c:\\users\\bai yifan\\appdata\\roaming\\python\\python311\\site-packages (from matplotlib) (2.9.0.post0)\n",
      "Requirement already satisfied: decorator<6.0,>=4.0.2 in c:\\users\\bai yifan\\appdata\\roaming\\python\\python311\\site-packages (from moviepy) (5.1.1)\n",
      "Requirement already satisfied: imageio<3.0,>=2.5 in c:\\users\\bai yifan\\appdata\\local\\programs\\python\\python311\\lib\\site-packages (from moviepy) (2.37.0)\n",
      "Requirement already satisfied: imageio_ffmpeg>=0.2.0 in c:\\users\\bai yifan\\appdata\\local\\programs\\python\\python311\\lib\\site-packages (from moviepy) (0.6.0)\n",
      "Requirement already satisfied: proglog<=1.0.0 in c:\\users\\bai yifan\\appdata\\local\\programs\\python\\python311\\lib\\site-packages (from moviepy) (0.1.10)\n",
      "Requirement already satisfied: python-dotenv>=0.10 in c:\\users\\bai yifan\\appdata\\local\\programs\\python\\python311\\lib\\site-packages (from moviepy) (1.0.1)\n",
      "Requirement already satisfied: tqdm in c:\\users\\bai yifan\\appdata\\local\\programs\\python\\python311\\lib\\site-packages (from proglog<=1.0.0->moviepy) (4.66.6)\n",
      "Requirement already satisfied: six>=1.5 in c:\\users\\bai yifan\\appdata\\local\\programs\\python\\python311\\lib\\site-packages (from python-dateutil>=2.7->matplotlib) (1.16.0)\n",
      "Requirement already satisfied: colorama in c:\\users\\bai yifan\\appdata\\roaming\\python\\python311\\site-packages (from tqdm->proglog<=1.0.0->moviepy) (0.4.6)\n"
     ]
    }
   ],
   "source": [
    "! pip install gym numpy matplotlib moviepy"
   ]
  },
  {
   "cell_type": "code",
   "execution_count": 122,
   "metadata": {},
   "outputs": [],
   "source": [
    "import gym\n",
    "import numpy as np\n",
    "import random\n",
    "import matplotlib.pyplot as plt\n",
    "from gym import logger as gymlogger\n",
    "from gym.wrappers import RecordVideo\n",
    "from IPython.display import HTML\n",
    "import pickle\n",
    "import os\n",
    "from tqdm import trange\n",
    "\n",
    "import os\n",
    "import imageio\n",
    "import datetime\n",
    "from PIL import Image\n",
    "from IPython.display import Video\n",
    "\n",
    "random.seed(42)\n",
    "gymlogger.set_level(10)  "
   ]
  },
  {
   "cell_type": "markdown",
   "metadata": {},
   "source": [
    "### Create the environment"
   ]
  },
  {
   "cell_type": "code",
   "execution_count": 109,
   "metadata": {},
   "outputs": [],
   "source": [
    "env = gym.make('CartPole-v1')"
   ]
  },
  {
   "cell_type": "markdown",
   "metadata": {},
   "source": [
    "### Discretization parameters"
   ]
  },
  {
   "cell_type": "code",
   "execution_count": 110,
   "metadata": {},
   "outputs": [],
   "source": [
    "PositionRange=4.8\n",
    "AngleRange=0.418\n",
    "\n",
    "bins={\n",
    "    \"position\": 30,\n",
    "    \"velocity\": 30,\n",
    "    \"pole_angle\": 40,\n",
    "    \"pole_velocity\": 40,\n",
    "}\n"
   ]
  },
  {
   "cell_type": "code",
   "execution_count": 111,
   "metadata": {},
   "outputs": [],
   "source": [
    "def discretize(value, min_val, max_val, num_bins):\n",
    "    if value > max_val:\n",
    "        return num_bins - 1\n",
    "    elif value < min_val:\n",
    "        return 0\n",
    "    else:\n",
    "        return round((value - min_val) / (max_val - min_val) * (num_bins - 1))"
   ]
  },
  {
   "cell_type": "code",
   "execution_count": 112,
   "metadata": {},
   "outputs": [],
   "source": [
    "NUM_STATES = np.prod(list(bins.values()))"
   ]
  },
  {
   "cell_type": "code",
   "execution_count": 113,
   "metadata": {},
   "outputs": [],
   "source": [
    "def get_hashed_state(observation):\n",
    "    \"\"\"Convert observation into a single integer state representation.\"\"\"\n",
    "    position, velocity, pole_angle, pole_velocity = observation\n",
    "    state_tuple = (\n",
    "        discretize(position, -PositionRange, PositionRange, bins[\"position\"]),\n",
    "        discretize(velocity, -3.0, 3.0, bins[\"velocity\"]),\n",
    "        discretize(pole_angle, -AngleRange, AngleRange, bins[\"pole_angle\"]),\n",
    "        discretize(pole_velocity, -3.0, 3.0, bins[\"pole_velocity\"])\n",
    "    )\n",
    "    \n",
    "    hashed_state = 0\n",
    "    multiplier = 1\n",
    "    for key, value in zip(bins.keys(), state_tuple):\n",
    "        hashed_state += value * multiplier\n",
    "        multiplier *= bins[key]\n",
    "    \n",
    "    return hashed_state"
   ]
  },
  {
   "cell_type": "markdown",
   "metadata": {},
   "source": [
    "Define Q-learning agent"
   ]
  },
  {
   "cell_type": "code",
   "execution_count": 114,
   "metadata": {},
   "outputs": [],
   "source": [
    "class QLearningAgent:\n",
    "    def __init__(self, alpha=0.1, gamma=0.99, epsilon=1.0):\n",
    "        self.alpha = alpha\n",
    "        self.gamma = gamma\n",
    "        self.epsilon = epsilon\n",
    "        self.q_table = np.zeros((NUM_STATES, 2))\n",
    "        self.episode_rewards = []\n",
    "\n",
    "    def get_action(self, state):\n",
    "        \"\"\"Epsilon-greedy policy\"\"\"\n",
    "        if random.random() < self.epsilon:\n",
    "            return random.randint(0, 1)  # Explore\n",
    "        else:\n",
    "            return np.argmax(self.q_table[state])  # Exploit\n",
    "\n",
    "    def train(self, env, num_episodes=8500, smooth_window=100):\n",
    "        \"\"\"Train the Q-learning agent\"\"\"\n",
    "        self.episode_rewards = []\n",
    "\n",
    "        for episode in trange(num_episodes, desc=\"Training\", unit=\"episode\"):\n",
    "            observation, _ = env.reset()\n",
    "            state = get_hashed_state(observation)\n",
    "            done = False\n",
    "            total_reward = 0\n",
    "\n",
    "            while not done:\n",
    "                action = self.get_action(state)\n",
    "                next_observation, reward, done, _, _ = env.step(action)\n",
    "                next_state = get_hashed_state(next_observation)\n",
    "\n",
    "                # Q-learning update\n",
    "                self.q_table[state, action] += self.alpha * (\n",
    "                    reward + self.gamma * np.max(self.q_table[next_state]) - self.q_table[state, action]\n",
    "                )\n",
    "\n",
    "                total_reward += reward\n",
    "                state = next_state\n",
    "\n",
    "            self.episode_rewards.append(total_reward)\n",
    "\n",
    "            # Decay epsilon gradually\n",
    "            self.epsilon = max(self.epsilon * 0.995, 0.05)\n",
    "\n",
    "        self.plot_rewards(smooth_window)\n",
    "\n",
    "    def plot_rewards(self, smooth_window=100):\n",
    "        \"\"\"Plot moving average of rewards.\"\"\"\n",
    "        rewards = np.convolve(self.episode_rewards, np.ones(smooth_window) / smooth_window, mode=\"valid\")\n",
    "        plt.plot(rewards)\n",
    "        plt.xlabel(\"Episode\")\n",
    "        plt.ylabel(\"Reward\")\n",
    "        plt.title(\"Q-learning Training Performance\")\n",
    "        plt.show()\n",
    "    \n",
    "    def save(self, path=\"models\", model_name=\"QL_Model\"):\n",
    "        \"\"\"Save the Q-table to a file.\"\"\"\n",
    "        os.makedirs(path, exist_ok=True)\n",
    "        filename = f\"{model_name}.pkl\"\n",
    "        full_path = os.path.join(path, filename)\n",
    "        with open(full_path, \"wb\") as f:\n",
    "            pickle.dump(self.q_table, f)\n",
    "        print(f\"Model saved to {full_path}\")\n",
    "\n",
    "    def load(self, file_path):\n",
    "        \"\"\"Load the Q-table from a file.\"\"\"\n",
    "        with open(file_path, \"rb\") as f:\n",
    "            self.q_table = pickle.load(f)\n",
    "        print(f\"Model loaded from {file_path}\")\n"
   ]
  },
  {
   "cell_type": "code",
   "execution_count": 115,
   "metadata": {},
   "outputs": [
    {
     "name": "stderr",
     "output_type": "stream",
     "text": [
      "Training:   0%|          | 0/8500 [00:00<?, ?episode/s]c:\\Users\\Bai Yifan\\AppData\\Local\\Programs\\Python\\Python311\\Lib\\site-packages\\gym\\utils\\passive_env_checker.py:233: DeprecationWarning: `np.bool8` is a deprecated alias for `np.bool_`.  (Deprecated NumPy 1.24)\n",
      "  if not isinstance(terminated, (bool, np.bool8)):\n",
      "Training:   1%|          | 99/8500 [00:00<00:21, 394.97episode/s]"
     ]
    },
    {
     "name": "stderr",
     "output_type": "stream",
     "text": [
      "Training: 100%|██████████| 8500/8500 [01:20<00:00, 104.95episode/s]\n"
     ]
    },
    {
     "data": {
      "image/png": "[encoded data removed]",
      "text/plain": [
       "<Figure size 640x480 with 1 Axes>"
      ]
     },
     "metadata": {},
     "output_type": "display_data"
    }
   ],
   "source": [
    "agent = QLearningAgent()\n",
    "agent.train(env, num_episodes=8500)"
   ]
  },
  {
   "cell_type": "markdown",
   "metadata": {},
   "source": [
    "# Task 1: Test the agent on a random state"
   ]
  },
  {
   "cell_type": "code",
   "execution_count": 116,
   "metadata": {},
   "outputs": [
    {
     "name": "stdout",
     "output_type": "stream",
     "text": [
      "Observation: [-0.02773274  0.01312402 -0.01930492  0.04284185]\n",
      "Chosen action: 0\n"
     ]
    }
   ],
   "source": [
    "observation, _ = env.reset()\n",
    "state = get_hashed_state(observation)\n",
    "action = agent.get_action(state)\n",
    "print(\"Observation:\", observation)\n",
    "print(\"Chosen action:\", action)"
   ]
  },
  {
   "cell_type": "code",
   "execution_count": 117,
   "metadata": {},
   "outputs": [
    {
     "name": "stdout",
     "output_type": "stream",
     "text": [
      "Model saved to models\\QL.pkl\n"
     ]
    }
   ],
   "source": [
    "agent.save(\"models\", \"QL\")"
   ]
  },
  {
   "cell_type": "code",
   "execution_count": 118,
   "metadata": {},
   "outputs": [],
   "source": [
    "import gym\n",
    "import numpy as np\n",
    "import pickle\n",
    "import os\n",
    "\n",
    "def play_episode(agent, env, render=False):\n",
    "    \"\"\"Simulate one episode using the trained agent (always exploiting).\"\"\"\n",
    "    observation, _ = env.reset()\n",
    "    \n",
    "    # Ensure valid observation\n",
    "    if observation is None:\n",
    "        print(\"Warning: Received None as initial observation, retrying reset.\")\n",
    "        observation, _ = env.reset()\n",
    "    \n",
    "    state = get_hashed_state(observation)\n",
    "    done = False\n",
    "    total_reward = 0\n",
    "\n",
    "    while not done and total_reward < 500:\n",
    "        action = np.argmax(agent.q_table[state])  # Always exploit\n",
    "        next_observation, reward, done, _, _ = env.step(action)\n",
    "        \n",
    "        if next_observation is None:\n",
    "            print(\"Warning: None observation encountered. Breaking episode early.\")\n",
    "            break\n",
    "        \n",
    "        state = get_hashed_state(next_observation)\n",
    "        total_reward += reward\n",
    "        \n",
    "        if render:\n",
    "            env.render()\n",
    "\n",
    "    return total_reward\n",
    "\n",
    "\n"
   ]
  },
  {
   "cell_type": "code",
   "execution_count": 119,
   "metadata": {},
   "outputs": [],
   "source": [
    "def evaluate(agent, env, num_episodes=100):\n",
    "    \"\"\"Evaluate the trained agent over multiple episodes.\"\"\"\n",
    "    rewards = []\n",
    "    \n",
    "    for i in range(num_episodes):\n",
    "        episode_reward = play_episode(agent, env)\n",
    "        rewards.append(episode_reward)\n",
    "        \n",
    "        if i % 10 == 0:  # Log every 10 episodes\n",
    "            print(f\"Episode {i}: Reward = {episode_reward}\")\n",
    "\n",
    "    mean_reward = np.mean(rewards)\n",
    "    std_reward = np.std(rewards)\n",
    "    \n",
    "    return mean_reward, std_reward\n",
    "\n"
   ]
  },
  {
   "cell_type": "code",
   "execution_count": 120,
   "metadata": {},
   "outputs": [
    {
     "name": "stdout",
     "output_type": "stream",
     "text": [
      "Warning: Model file models/QL_Model.pkl not found. Ensure training was saved properly.\n"
     ]
    }
   ],
   "source": [
    "# Ensure the trained model is loaded correctly\n",
    "model_path = \"models/QL_Model.pkl\"\n",
    "if os.path.exists(model_path):\n",
    "    agent.load(model_path)\n",
    "else:\n",
    "    print(f\"Warning: Model file {model_path} not found. Ensure training was saved properly.\")\n",
    "\n"
   ]
  },
  {
   "cell_type": "code",
   "execution_count": 121,
   "metadata": {},
   "outputs": [
    {
     "name": "stdout",
     "output_type": "stream",
     "text": [
      "Episode 0: Reward = 246.0\n"
     ]
    },
    {
     "name": "stdout",
     "output_type": "stream",
     "text": [
      "Episode 10: Reward = 236.0\n",
      "Episode 20: Reward = 92.0\n",
      "Episode 30: Reward = 381.0\n",
      "Episode 40: Reward = 295.0\n",
      "Episode 50: Reward = 268.0\n",
      "Episode 60: Reward = 285.0\n",
      "Episode 70: Reward = 65.0\n",
      "Episode 80: Reward = 156.0\n",
      "Episode 90: Reward = 318.0\n",
      "Average Cumulative Reward: 267.29\n",
      "Reward Standard Deviation: 112.37\n",
      "Is my agent good enough? True\n"
     ]
    }
   ],
   "source": [
    "# Evaluate the trained agent\n",
    "mean_reward, std_reward = evaluate(agent, env, num_episodes=100)\n",
    "\n",
    "# Show results\n",
    "print(f\"Average Cumulative Reward: {mean_reward:.2f}\")\n",
    "print(f\"Reward Standard Deviation: {std_reward:.2f}\")\n",
    "print(\"Is my agent good enough?\", mean_reward > 195)"
   ]
  },
  {
   "cell_type": "code",
   "execution_count": 124,
   "metadata": {},
   "outputs": [
    {
     "name": "stderr",
     "output_type": "stream",
     "text": [
      "IMAGEIO FFMPEG_WRITER WARNING: input image is not divisible by macro_block_size=16, resizing from (600, 400) to (608, 400) to ensure video compatibility with most codecs and players. To prevent resizing, make your input image divisible by the macro_block_size or set the macro_block_size to 1 (risking incompatibility).\n"
     ]
    },
    {
     "data": {
      "text/html": [
       "<video src=\"video\\QL_agent_20250327163651.mp4\" controls  >\n",
       "      Your browser does not support the <code>video</code> element.\n",
       "    </video>"
      ],
      "text/plain": [
       "<IPython.core.display.Video object>"
      ]
     },
     "execution_count": 124,
     "metadata": {},
     "output_type": "execute_result"
    }
   ],
   "source": [
    "def get_video_path(video_name: str = \"default\", video_folder: str = \"video\") -> str:\n",
    "    os.makedirs(video_folder, exist_ok=True)\n",
    "    if video_name == \"default\":\n",
    "        video_name = f\"QL_agent_{datetime.datetime.now().strftime('%Y%m%d%H%M%S')}\"\n",
    "    if not video_name.endswith(\".mp4\"):\n",
    "        video_name += \".mp4\"\n",
    "    return os.path.join(video_folder, video_name)\n",
    "\n",
    "def render_episode(agent, env, video_name=\"default\", fps=20, width=600, height=400, video_folder=\"video\"):\n",
    "    \"\"\"Render one episode of the agent's performance and save as video.\"\"\"\n",
    "    render_env = gym.make('CartPole-v1', render_mode='rgb_array')\n",
    "    \n",
    "    frames = []\n",
    "    observation, _ = render_env.reset()\n",
    "    \n",
    "    while True:\n",
    "        state = get_hashed_state(observation)\n",
    "        action = np.argmax(agent.q_table[state]) \n",
    "        \n",
    "        frame = render_env.render()\n",
    "        if frame is not None:\n",
    "            frames.append(Image.fromarray(frame).resize((width, height)))\n",
    "        \n",
    "        observation, reward, terminated, truncated, _ = render_env.step(action)\n",
    "        \n",
    "        if terminated or truncated:\n",
    "            break\n",
    "    \n",
    "    render_env.close()\n",
    "    \n",
    "    if frames: \n",
    "        video_path = get_video_path(video_name=video_name, video_folder=video_folder)\n",
    "        imageio.mimsave(video_path, frames, fps=fps)\n",
    "        return Video(video_path)\n",
    "    else:\n",
    "        print(\"Warning: No frames were captured during rendering.\")\n",
    "        return None\n",
    "render_episode(agent, env)"
   ]
  }
 ],
 "metadata": {
  "kernelspec": {
   "display_name": "Python 3",
   "language": "python",
   "name": "python3"
  },
  "language_info": {
   "codemirror_mode": {
    "name": "ipython",
    "version": 3
   },
   "file_extension": ".py",
   "mimetype": "text/x-python",
   "name": "python",
   "nbconvert_exporter": "python",
   "pygments_lexer": "ipython3",
   "version": "3.11.5"
  }
 },
 "nbformat": 4,
 "nbformat_minor": 2
}

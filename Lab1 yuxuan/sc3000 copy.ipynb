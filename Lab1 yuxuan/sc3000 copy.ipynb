{
 "cells": [
  {
   "cell_type": "markdown",
   "metadata": {},
   "source": [
    "## Contributions"
   ]
  },
  {
   "cell_type": "markdown",
   "metadata": {},
   "source": [
    "Bai Yifan: \n",
    "Zhang Yuxuan: Optimize the RL agent by modifying parameters to achieving the maximum average reward=500 and write all the markdown for documentation purposes."
   ]
  },
  {
   "cell_type": "markdown",
   "metadata": {},
   "source": [
    "## Set up the environment\n"
   ]
  },
  {
   "cell_type": "markdown",
   "metadata": {},
   "source": [
    "### Installing necessary libraries"
   ]
  },
  {
   "cell_type": "code",
   "execution_count": 1,
   "metadata": {},
   "outputs": [
    {
     "name": "stdout",
     "output_type": "stream",
     "text": [
      "Requirement already satisfied: numpy in c:\\users\\yuxua\\desktop\\sc3000\\.conda\\lib\\site-packages (2.2.4)\n",
      "Requirement already satisfied: matplotlib in c:\\users\\yuxua\\desktop\\sc3000\\.conda\\lib\\site-packages (3.10.1)\n",
      "Requirement already satisfied: contourpy>=1.0.1 in c:\\users\\yuxua\\desktop\\sc3000\\.conda\\lib\\site-packages (from matplotlib) (1.3.1)\n",
      "Requirement already satisfied: cycler>=0.10 in c:\\users\\yuxua\\desktop\\sc3000\\.conda\\lib\\site-packages (from matplotlib) (0.12.1)\n",
      "Requirement already satisfied: fonttools>=4.22.0 in c:\\users\\yuxua\\desktop\\sc3000\\.conda\\lib\\site-packages (from matplotlib) (4.56.0)\n",
      "Requirement already satisfied: kiwisolver>=1.3.1 in c:\\users\\yuxua\\desktop\\sc3000\\.conda\\lib\\site-packages (from matplotlib) (1.4.8)\n",
      "Requirement already satisfied: numpy>=1.23 in c:\\users\\yuxua\\desktop\\sc3000\\.conda\\lib\\site-packages (from matplotlib) (2.2.4)\n",
      "Requirement already satisfied: packaging>=20.0 in c:\\users\\yuxua\\desktop\\sc3000\\.conda\\lib\\site-packages (from matplotlib) (24.2)\n",
      "Requirement already satisfied: pillow>=8 in c:\\users\\yuxua\\desktop\\sc3000\\.conda\\lib\\site-packages (from matplotlib) (10.4.0)\n",
      "Requirement already satisfied: pyparsing>=2.3.1 in c:\\users\\yuxua\\desktop\\sc3000\\.conda\\lib\\site-packages (from matplotlib) (3.2.3)\n",
      "Requirement already satisfied: python-dateutil>=2.7 in c:\\users\\yuxua\\desktop\\sc3000\\.conda\\lib\\site-packages (from matplotlib) (2.9.0.post0)\n",
      "Requirement already satisfied: six>=1.5 in c:\\users\\yuxua\\desktop\\sc3000\\.conda\\lib\\site-packages (from python-dateutil>=2.7->matplotlib) (1.17.0)\n",
      "Requirement already satisfied: moviepy in c:\\users\\yuxua\\desktop\\sc3000\\.conda\\lib\\site-packages (2.1.2)\n",
      "Requirement already satisfied: decorator<6.0,>=4.0.2 in c:\\users\\yuxua\\desktop\\sc3000\\.conda\\lib\\site-packages (from moviepy) (5.2.1)\n",
      "Requirement already satisfied: imageio<3.0,>=2.5 in c:\\users\\yuxua\\desktop\\sc3000\\.conda\\lib\\site-packages (from moviepy) (2.37.0)\n",
      "Requirement already satisfied: imageio_ffmpeg>=0.2.0 in c:\\users\\yuxua\\desktop\\sc3000\\.conda\\lib\\site-packages (from moviepy) (0.6.0)\n",
      "Requirement already satisfied: numpy>=1.25.0 in c:\\users\\yuxua\\desktop\\sc3000\\.conda\\lib\\site-packages (from moviepy) (2.2.4)\n",
      "Requirement already satisfied: proglog<=1.0.0 in c:\\users\\yuxua\\desktop\\sc3000\\.conda\\lib\\site-packages (from moviepy) (0.1.10)\n",
      "Requirement already satisfied: python-dotenv>=0.10 in c:\\users\\yuxua\\desktop\\sc3000\\.conda\\lib\\site-packages (from moviepy) (1.1.0)\n",
      "Requirement already satisfied: pillow<11.0,>=9.2.0 in c:\\users\\yuxua\\desktop\\sc3000\\.conda\\lib\\site-packages (from moviepy) (10.4.0)\n",
      "Requirement already satisfied: tqdm in c:\\users\\yuxua\\desktop\\sc3000\\.conda\\lib\\site-packages (from proglog<=1.0.0->moviepy) (4.67.1)\n",
      "Requirement already satisfied: colorama in c:\\users\\yuxua\\desktop\\sc3000\\.conda\\lib\\site-packages (from tqdm->proglog<=1.0.0->moviepy) (0.4.6)\n",
      "Requirement already satisfied: gymnasium in c:\\users\\yuxua\\desktop\\sc3000\\.conda\\lib\\site-packages (1.1.1)\n",
      "Requirement already satisfied: pyvirtualdisplay in c:\\users\\yuxua\\desktop\\sc3000\\.conda\\lib\\site-packages (3.0)\n",
      "Requirement already satisfied: numpy>=1.21.0 in c:\\users\\yuxua\\desktop\\sc3000\\.conda\\lib\\site-packages (from gymnasium) (2.2.4)\n",
      "Requirement already satisfied: cloudpickle>=1.2.0 in c:\\users\\yuxua\\desktop\\sc3000\\.conda\\lib\\site-packages (from gymnasium) (3.1.1)\n",
      "Requirement already satisfied: typing-extensions>=4.3.0 in c:\\users\\yuxua\\desktop\\sc3000\\.conda\\lib\\site-packages (from gymnasium) (4.12.2)\n",
      "Requirement already satisfied: farama-notifications>=0.0.1 in c:\\users\\yuxua\\desktop\\sc3000\\.conda\\lib\\site-packages (from gymnasium) (0.0.4)\n",
      "Requirement already satisfied: gymnasium[other] in c:\\users\\yuxua\\desktop\\sc3000\\.conda\\lib\\site-packages (1.1.1)\n",
      "Requirement already satisfied: numpy>=1.21.0 in c:\\users\\yuxua\\desktop\\sc3000\\.conda\\lib\\site-packages (from gymnasium[other]) (2.2.4)\n",
      "Requirement already satisfied: cloudpickle>=1.2.0 in c:\\users\\yuxua\\desktop\\sc3000\\.conda\\lib\\site-packages (from gymnasium[other]) (3.1.1)\n",
      "Requirement already satisfied: typing-extensions>=4.3.0 in c:\\users\\yuxua\\desktop\\sc3000\\.conda\\lib\\site-packages (from gymnasium[other]) (4.12.2)\n",
      "Requirement already satisfied: farama-notifications>=0.0.1 in c:\\users\\yuxua\\desktop\\sc3000\\.conda\\lib\\site-packages (from gymnasium[other]) (0.0.4)\n",
      "Requirement already satisfied: moviepy>=1.0.0 in c:\\users\\yuxua\\desktop\\sc3000\\.conda\\lib\\site-packages (from gymnasium[other]) (2.1.2)\n",
      "Requirement already satisfied: matplotlib>=3.0 in c:\\users\\yuxua\\desktop\\sc3000\\.conda\\lib\\site-packages (from gymnasium[other]) (3.10.1)\n",
      "Requirement already satisfied: opencv-python>=3.0 in c:\\users\\yuxua\\desktop\\sc3000\\.conda\\lib\\site-packages (from gymnasium[other]) (4.11.0.86)\n",
      "Requirement already satisfied: seaborn>=0.13 in c:\\users\\yuxua\\desktop\\sc3000\\.conda\\lib\\site-packages (from gymnasium[other]) (0.13.2)\n",
      "Requirement already satisfied: contourpy>=1.0.1 in c:\\users\\yuxua\\desktop\\sc3000\\.conda\\lib\\site-packages (from matplotlib>=3.0->gymnasium[other]) (1.3.1)\n",
      "Requirement already satisfied: cycler>=0.10 in c:\\users\\yuxua\\desktop\\sc3000\\.conda\\lib\\site-packages (from matplotlib>=3.0->gymnasium[other]) (0.12.1)\n",
      "Requirement already satisfied: fonttools>=4.22.0 in c:\\users\\yuxua\\desktop\\sc3000\\.conda\\lib\\site-packages (from matplotlib>=3.0->gymnasium[other]) (4.56.0)\n",
      "Requirement already satisfied: kiwisolver>=1.3.1 in c:\\users\\yuxua\\desktop\\sc3000\\.conda\\lib\\site-packages (from matplotlib>=3.0->gymnasium[other]) (1.4.8)\n",
      "Requirement already satisfied: packaging>=20.0 in c:\\users\\yuxua\\desktop\\sc3000\\.conda\\lib\\site-packages (from matplotlib>=3.0->gymnasium[other]) (24.2)\n",
      "Requirement already satisfied: pillow>=8 in c:\\users\\yuxua\\desktop\\sc3000\\.conda\\lib\\site-packages (from matplotlib>=3.0->gymnasium[other]) (10.4.0)\n",
      "Requirement already satisfied: pyparsing>=2.3.1 in c:\\users\\yuxua\\desktop\\sc3000\\.conda\\lib\\site-packages (from matplotlib>=3.0->gymnasium[other]) (3.2.3)\n",
      "Requirement already satisfied: python-dateutil>=2.7 in c:\\users\\yuxua\\desktop\\sc3000\\.conda\\lib\\site-packages (from matplotlib>=3.0->gymnasium[other]) (2.9.0.post0)\n",
      "Requirement already satisfied: decorator<6.0,>=4.0.2 in c:\\users\\yuxua\\desktop\\sc3000\\.conda\\lib\\site-packages (from moviepy>=1.0.0->gymnasium[other]) (5.2.1)\n",
      "Requirement already satisfied: imageio<3.0,>=2.5 in c:\\users\\yuxua\\desktop\\sc3000\\.conda\\lib\\site-packages (from moviepy>=1.0.0->gymnasium[other]) (2.37.0)\n",
      "Requirement already satisfied: imageio_ffmpeg>=0.2.0 in c:\\users\\yuxua\\desktop\\sc3000\\.conda\\lib\\site-packages (from moviepy>=1.0.0->gymnasium[other]) (0.6.0)\n",
      "Requirement already satisfied: proglog<=1.0.0 in c:\\users\\yuxua\\desktop\\sc3000\\.conda\\lib\\site-packages (from moviepy>=1.0.0->gymnasium[other]) (0.1.10)\n",
      "Requirement already satisfied: python-dotenv>=0.10 in c:\\users\\yuxua\\desktop\\sc3000\\.conda\\lib\\site-packages (from moviepy>=1.0.0->gymnasium[other]) (1.1.0)\n",
      "Requirement already satisfied: pandas>=1.2 in c:\\users\\yuxua\\desktop\\sc3000\\.conda\\lib\\site-packages (from seaborn>=0.13->gymnasium[other]) (2.2.3)\n",
      "Requirement already satisfied: pytz>=2020.1 in c:\\users\\yuxua\\desktop\\sc3000\\.conda\\lib\\site-packages (from pandas>=1.2->seaborn>=0.13->gymnasium[other]) (2025.2)\n",
      "Requirement already satisfied: tzdata>=2022.7 in c:\\users\\yuxua\\desktop\\sc3000\\.conda\\lib\\site-packages (from pandas>=1.2->seaborn>=0.13->gymnasium[other]) (2025.2)\n",
      "Requirement already satisfied: tqdm in c:\\users\\yuxua\\desktop\\sc3000\\.conda\\lib\\site-packages (from proglog<=1.0.0->moviepy>=1.0.0->gymnasium[other]) (4.67.1)\n",
      "Requirement already satisfied: six>=1.5 in c:\\users\\yuxua\\desktop\\sc3000\\.conda\\lib\\site-packages (from python-dateutil>=2.7->matplotlib>=3.0->gymnasium[other]) (1.17.0)\n",
      "Requirement already satisfied: colorama in c:\\users\\yuxua\\desktop\\sc3000\\.conda\\lib\\site-packages (from tqdm->proglog<=1.0.0->moviepy>=1.0.0->gymnasium[other]) (0.4.6)\n"
     ]
    }
   ],
   "source": [
    "! pip install numpy\n",
    "! pip install matplotlib\n",
    "! pip install moviepy\n",
    "! pip install gymnasium pyvirtualdisplay\n",
    "! pip install \"gymnasium[other]\""
   ]
  },
  {
   "cell_type": "markdown",
   "metadata": {},
   "source": [
    "### Include the necessay libraries"
   ]
  },
  {
   "cell_type": "code",
   "execution_count": 2,
   "metadata": {},
   "outputs": [],
   "source": [
    "import numpy as np\n",
    "import random\n",
    "import matplotlib.pyplot as plt\n",
    "import gymnasium as gym\n",
    "from gymnasium import logger as gymlogger\n",
    "from gymnasium.wrappers import RecordVideo\t\n",
    "from IPython.display import HTML\n",
    "import pickle\n",
    "import os\n",
    "from tqdm import trange\n",
    "\n",
    "import os\n",
    "import imageio\n",
    "import datetime\n",
    "from PIL import Image\n",
    "from IPython.display import Video\n",
    "\n",
    "random.seed(42)\n",
    "gymlogger.min_level = 10 "
   ]
  },
  {
   "cell_type": "markdown",
   "metadata": {},
   "source": [
    "### Create the CartPole environment"
   ]
  },
  {
   "cell_type": "code",
   "execution_count": 3,
   "metadata": {},
   "outputs": [],
   "source": [
    "env = gym.make('CartPole-v1')"
   ]
  },
  {
   "cell_type": "markdown",
   "metadata": {},
   "source": [
    "## Discretization parameters and define helper functions"
   ]
  },
  {
   "cell_type": "markdown",
   "metadata": {},
   "source": [
    "In the CartPole environment, parameters defined in the question such as positions, velocity, pole angle could take on infinite number of values within the range. However, in this assignment, we are using Q-learning, which is an algorithm that could only take finite number of states. Hence, we discretize the values into finite number of different states."
   ]
  },
  {
   "cell_type": "markdown",
   "metadata": {},
   "source": [
    "### Define the states in a data structure"
   ]
  },
  {
   "cell_type": "code",
   "execution_count": 4,
   "metadata": {},
   "outputs": [],
   "source": [
    "PositionRange=4.8\n",
    "AngleRange=0.418\n",
    "\n",
    "bins={\n",
    "    \"position\": 30,\n",
    "    \"velocity\": 30,\n",
    "    \"pole_angle\": 40,\n",
    "    \"pole_velocity\": 40,\n",
    "}"
   ]
  },
  {
   "cell_type": "markdown",
   "metadata": {},
   "source": [
    "### Define helper function discretize(value, min_val, max_val, num_bins)"
   ]
  },
  {
   "cell_type": "code",
   "execution_count": 5,
   "metadata": {},
   "outputs": [],
   "source": [
    "def discretize(value, min_val, max_val, num_bins):\n",
    "    if value > max_val:\n",
    "        return num_bins - 1\n",
    "    elif value < min_val:\n",
    "        return 0\n",
    "    else:\n",
    "        return round((value - min_val) / (max_val - min_val) * (num_bins - 1))"
   ]
  },
  {
   "cell_type": "markdown",
   "metadata": {},
   "source": [
    "### Define the total number of states"
   ]
  },
  {
   "cell_type": "code",
   "execution_count": 6,
   "metadata": {},
   "outputs": [],
   "source": [
    "NUM_STATES = np.prod(list(bins.values()))"
   ]
  },
  {
   "cell_type": "markdown",
   "metadata": {},
   "source": [
    "### Define the hash function to hash a combination of parameter values into a single integer value"
   ]
  },
  {
   "cell_type": "code",
   "execution_count": 7,
   "metadata": {},
   "outputs": [],
   "source": [
    "def get_hashed_state(observation):\n",
    "    \"\"\"Convert observation into a single integer state representation.\"\"\"\n",
    "    position, velocity, pole_angle, pole_velocity = observation\n",
    "    state_tuple = (\n",
    "        discretize(position, -PositionRange, PositionRange, bins[\"position\"]),\n",
    "        discretize(velocity, -3.0, 3.0, bins[\"velocity\"]),\n",
    "        discretize(pole_angle, -AngleRange, AngleRange, bins[\"pole_angle\"]),\n",
    "        discretize(pole_velocity, -3.0, 3.0, bins[\"pole_velocity\"])\n",
    "    )\n",
    "    \n",
    "    hashed_state = 0\n",
    "    multiplier = 1\n",
    "    for key, value in zip(bins.keys(), state_tuple):\n",
    "        hashed_state += value * multiplier\n",
    "        multiplier *= bins[key]\n",
    "    \n",
    "    return hashed_state"
   ]
  },
  {
   "cell_type": "markdown",
   "metadata": {},
   "source": [
    "## Task 1: Development of an RL agent: Q-learning"
   ]
  },
  {
   "cell_type": "markdown",
   "metadata": {},
   "source": [
    "### Define RL Q-learning agent"
   ]
  },
  {
   "cell_type": "code",
   "execution_count": 8,
   "metadata": {},
   "outputs": [],
   "source": [
    "class QLearningAgent:\n",
    "    def __init__(self, alpha=0.1, gamma=0.99, epsilon=1.0):\n",
    "        self.alpha = alpha\n",
    "        self.gamma = gamma\n",
    "        self.epsilon = epsilon\n",
    "        self.q_table = np.zeros((NUM_STATES, 2))\n",
    "        self.episode_rewards = []\n",
    "\n",
    "    def get_action(self, state):\n",
    "        \"\"\"Epsilon-greedy policy\"\"\"\n",
    "        if random.random() < self.epsilon:\n",
    "            return random.randint(0, 1)  # Explore\n",
    "        else:\n",
    "            return np.argmax(self.q_table[state])  # Exploit\n",
    "\n",
    "    def train(self, env, num_episodes=8500, smooth_window=100):\n",
    "        \"\"\"Train the Q-learning agent\"\"\"\n",
    "        self.episode_rewards = []\n",
    "\n",
    "        for episode in trange(num_episodes, desc=\"Training\", unit=\"episode\"):\n",
    "            observation, _ = env.reset()\n",
    "            state = get_hashed_state(observation)\n",
    "            done = False\n",
    "            total_reward = 0\n",
    "\n",
    "            while not done:\n",
    "                action = self.get_action(state)\n",
    "                next_observation, reward, done, _, _ = env.step(action)\n",
    "                next_state = get_hashed_state(next_observation)\n",
    "\n",
    "                # Q-learning update\n",
    "                self.q_table[state, action] += self.alpha * (\n",
    "                    reward + self.gamma * np.max(self.q_table[next_state]) - self.q_table[state, action]\n",
    "                )\n",
    "\n",
    "                total_reward += reward\n",
    "                state = next_state\n",
    "\n",
    "            self.episode_rewards.append(total_reward)\n",
    "\n",
    "            # Decay epsilon gradually after every 10 episodes\n",
    "            if episode % 10 == 0:\n",
    "                self.epsilon = max(self.epsilon * 0.995, 0.05)\n",
    "\n",
    "        self.plot_rewards(smooth_window)\n",
    "\n",
    "    def plot_rewards(self, smooth_window=100):\n",
    "        \"\"\"Plot moving average of rewards.\"\"\"\n",
    "        rewards = np.convolve(self.episode_rewards, np.ones(smooth_window) / smooth_window, mode=\"valid\")\n",
    "        plt.plot(rewards)\n",
    "        plt.xlabel(\"Episode\")\n",
    "        plt.ylabel(\"Reward\")\n",
    "        plt.title(\"Q-learning Training Performance\")\n",
    "        plt.show()\n",
    "    \n",
    "    def save(self, path=\"models\", model_name=\"QL_Model\"):\n",
    "        \"\"\"Save the Q-table to a file.\"\"\"\n",
    "        os.makedirs(path, exist_ok=True)\n",
    "        filename = f\"{model_name}.pkl\"\n",
    "        full_path = os.path.join(path, filename)\n",
    "        with open(full_path, \"wb\") as f:\n",
    "            pickle.dump(self.q_table, f)\n",
    "        print(f\"Model saved to {full_path}\")\n",
    "\n",
    "    def load(self, file_path):\n",
    "        \"\"\"Load the Q-table from a file.\"\"\"\n",
    "        with open(file_path, \"rb\") as f:\n",
    "            self.q_table = pickle.load(f)\n",
    "        print(f\"Model loaded from {file_path}\")\n"
   ]
  },
  {
   "cell_type": "markdown",
   "metadata": {},
   "source": [
    "### Train Q-learning agent on a total of 30000 episodes"
   ]
  },
  {
   "cell_type": "code",
   "execution_count": 9,
   "metadata": {},
   "outputs": [
    {
     "name": "stderr",
     "output_type": "stream",
     "text": [
      "Training: 100%|██████████| 30000/30000 [26:16<00:00, 19.03episode/s]  \n"
     ]
    },
    {
     "data": {
      "image/png": "[encoded data removed]",
      "text/plain": [
       "<Figure size 640x480 with 1 Axes>"
      ]
     },
     "metadata": {},
     "output_type": "display_data"
    }
   ],
   "source": [
    "agent = QLearningAgent()\n",
    "agent.train(env, num_episodes=30000)"
   ]
  },
  {
   "cell_type": "markdown",
   "metadata": {},
   "source": [
    "### Inputting a random state from the cart pole environment and outputting a chosen action"
   ]
  },
  {
   "cell_type": "code",
   "execution_count": 10,
   "metadata": {},
   "outputs": [
    {
     "name": "stdout",
     "output_type": "stream",
     "text": [
      "Observation: [-0.00984724 -0.02622985  0.01869909 -0.02622159]\n",
      "Chosen action: 0\n"
     ]
    }
   ],
   "source": [
    "observation, _ = env.reset()\n",
    "state = get_hashed_state(observation)\n",
    "action = agent.get_action(state)\n",
    "print(\"Observation:\", observation)\n",
    "print(\"Chosen action:\", action)"
   ]
  },
  {
   "cell_type": "markdown",
   "metadata": {},
   "source": [
    "### Save the model called QL_model1"
   ]
  },
  {
   "cell_type": "code",
   "execution_count": 11,
   "metadata": {},
   "outputs": [
    {
     "name": "stdout",
     "output_type": "stream",
     "text": [
      "Model saved to models\\QL_model1.pkl\n"
     ]
    }
   ],
   "source": [
    "agent.save(\"models\", \"QL_model1\")"
   ]
  },
  {
   "cell_type": "markdown",
   "metadata": {},
   "source": [
    "## Task 2: Demonstrate the effectiveness of the RL agent."
   ]
  },
  {
   "cell_type": "markdown",
   "metadata": {},
   "source": [
    "### Define helper function play-episode which simulates one episode in a reinforcement learning environment using a trained agent that always exploits the learned Q-values"
   ]
  },
  {
   "cell_type": "code",
   "execution_count": 12,
   "metadata": {},
   "outputs": [],
   "source": [
    "import gymnasium as gym\n",
    "import numpy as np\n",
    "import pickle\n",
    "import os\n",
    "\n",
    "def play_episode(agent, env, render=False):\n",
    "    \"\"\"Simulate one episode using the trained agent (always exploiting).\"\"\"\n",
    "    observation, _ = env.reset()\n",
    "    \n",
    "    # Ensure valid observation\n",
    "    if observation is None:\n",
    "        print(\"Warning: Received None as initial observation, retrying reset.\")\n",
    "        observation, _ = env.reset()\n",
    "    \n",
    "    state = get_hashed_state(observation)\n",
    "    done = False\n",
    "    total_reward = 0\n",
    "\n",
    "    while not done and total_reward < 500:\n",
    "        action = np.argmax(agent.q_table[state])  # Always exploit\n",
    "        next_observation, reward, done, _, _ = env.step(action)\n",
    "        \n",
    "        if next_observation is None:\n",
    "            print(\"Warning: None observation encountered. Breaking episode early.\")\n",
    "            break\n",
    "        \n",
    "        state = get_hashed_state(next_observation)\n",
    "        total_reward += reward\n",
    "        \n",
    "        if render:\n",
    "            env.render()\n",
    "\n",
    "    return total_reward"
   ]
  },
  {
   "cell_type": "markdown",
   "metadata": {},
   "source": [
    "### Define the helper function evaluate to evaluate the performance of the RL agent"
   ]
  },
  {
   "cell_type": "code",
   "execution_count": 13,
   "metadata": {},
   "outputs": [],
   "source": [
    "def evaluate(agent, env, num_episodes=100):\n",
    "    \"\"\"Evaluate the trained agent over multiple episodes.\"\"\"\n",
    "    rewards = []\n",
    "    \n",
    "    for i in range(num_episodes):\n",
    "        episode_reward = play_episode(agent, env)\n",
    "        rewards.append(episode_reward)\n",
    "        \n",
    "        if i % 10 == 0:  # Log every 10 episodes\n",
    "            print(f\"Episode {i}: Reward = {episode_reward}\")\n",
    "\n",
    "#plotting the rewards\n",
    "    plt.plot(rewards)\n",
    "    plt.xlabel(\"Episode\")\n",
    "    plt.ylabel(\"Reward\")\n",
    "    plt.title(\"Q-learning Evaluation Performance\")\n",
    "    plt.show()\n",
    "\n",
    "\n",
    "    mean_reward = np.mean(rewards)\n",
    "    std_reward = np.std(rewards)\n",
    "    \n",
    "    return mean_reward, std_reward\n"
   ]
  },
  {
   "cell_type": "markdown",
   "metadata": {},
   "source": [
    "### Load the trained model for evaluation"
   ]
  },
  {
   "cell_type": "code",
   "execution_count": 14,
   "metadata": {},
   "outputs": [
    {
     "name": "stdout",
     "output_type": "stream",
     "text": [
      "Model loaded from models/QL_model1.pkl\n"
     ]
    }
   ],
   "source": [
    "# Ensure the trained model is loaded correctly\n",
    "model_path = \"models/QL_model1.pkl\"\n",
    "if os.path.exists(model_path):\n",
    "    agent.load(model_path)\n",
    "else:\n",
    "    print(f\"Warning: Model file {model_path} not found. Ensure training was saved properly.\")\n",
    "\n"
   ]
  },
  {
   "cell_type": "markdown",
   "metadata": {},
   "source": [
    "### Evaluate using 100 episodes"
   ]
  },
  {
   "cell_type": "code",
   "execution_count": 15,
   "metadata": {},
   "outputs": [
    {
     "name": "stdout",
     "output_type": "stream",
     "text": [
      "Episode 0: Reward = 500.0\n",
      "Episode 10: Reward = 500.0\n",
      "Episode 20: Reward = 500.0\n",
      "Episode 30: Reward = 500.0\n",
      "Episode 40: Reward = 500.0\n",
      "Episode 50: Reward = 500.0\n",
      "Episode 60: Reward = 500.0\n",
      "Episode 70: Reward = 500.0\n",
      "Episode 80: Reward = 500.0\n",
      "Episode 90: Reward = 500.0\n"
     ]
    },
    {
     "data": {
      "image/png": "[encoded data removed]",
      "text/plain": [
       "<Figure size 640x480 with 1 Axes>"
      ]
     },
     "metadata": {},
     "output_type": "display_data"
    },
    {
     "name": "stdout",
     "output_type": "stream",
     "text": [
      "Average Cumulative Reward: 500.00\n",
      "Reward Standard Deviation: 0.00\n",
      "Is my agent good enough? True\n"
     ]
    }
   ],
   "source": [
    "# Evaluate the trained agent\n",
    "mean_reward, std_reward = evaluate(agent, env, num_episodes=100)\n",
    "\n",
    "# Show results\n",
    "print(f\"Average Cumulative Reward: {mean_reward:.2f}\")\n",
    "print(f\"Reward Standard Deviation: {std_reward:.2f}\")\n",
    "print(\"Is my agent good enough?\", mean_reward > 195)"
   ]
  },
  {
   "cell_type": "markdown",
   "metadata": {},
   "source": [
    "## Task 3: Render one episode played by the developed RL agent"
   ]
  },
  {
   "cell_type": "code",
   "execution_count": 16,
   "metadata": {},
   "outputs": [
    {
     "name": "stdout",
     "output_type": "stream",
     "text": [
      "Requirement already satisfied: pygame in c:\\users\\yuxua\\desktop\\sc3000\\.conda\\lib\\site-packages (2.6.1)\n",
      "Note: you may need to restart the kernel to use updated packages.\n"
     ]
    },
    {
     "name": "stderr",
     "output_type": "stream",
     "text": [
      "IMAGEIO FFMPEG_WRITER WARNING: input image is not divisible by macro_block_size=16, resizing from (600, 400) to (608, 400) to ensure video compatibility with most codecs and players. To prevent resizing, make your input image divisible by the macro_block_size or set the macro_block_size to 1 (risking incompatibility).\n"
     ]
    },
    {
     "data": {
      "text/html": [
       "<video src=\"video\\QL_agent_20250401174044.mp4\" controls  >\n",
       "      Your browser does not support the <code>video</code> element.\n",
       "    </video>"
      ],
      "text/plain": [
       "<IPython.core.display.Video object>"
      ]
     },
     "execution_count": 16,
     "metadata": {},
     "output_type": "execute_result"
    }
   ],
   "source": [
    "def get_video_path(video_name: str = \"default\", video_folder: str = \"video\") -> str:\n",
    "    os.makedirs(video_folder, exist_ok=True)\n",
    "    if video_name == \"default\":\n",
    "        video_name = f\"QL_agent_{datetime.datetime.now().strftime('%Y%m%d%H%M%S')}\"\n",
    "    if not video_name.endswith(\".mp4\"):\n",
    "        video_name += \".mp4\"\n",
    "    return os.path.join(video_folder, video_name)\n",
    "\n",
    "def render_episode(agent, env, video_name=\"default\", fps=20, width=600, height=400, video_folder=\"video\"):\n",
    "    \"\"\"Render one episode of the agent's performance and save as video.\"\"\"\n",
    "    render_env = gym.make('CartPole-v1', render_mode='rgb_array')\n",
    "    \n",
    "    frames = []\n",
    "    observation, _ = render_env.reset()\n",
    "    \n",
    "    while True:\n",
    "        state = get_hashed_state(observation)\n",
    "        action = np.argmax(agent.q_table[state]) \n",
    "        \n",
    "        frame = render_env.render()\n",
    "        if frame is not None:\n",
    "            frames.append(Image.fromarray(frame).resize((width, height)))\n",
    "        \n",
    "        observation, reward, terminated, truncated, _ = render_env.step(action)\n",
    "        \n",
    "        if terminated or truncated:\n",
    "            break\n",
    "    \n",
    "    render_env.close()\n",
    "    \n",
    "    if frames: \n",
    "        video_path = get_video_path(video_name=video_name, video_folder=video_folder)\n",
    "        imageio.mimsave(video_path, frames, fps=fps)\n",
    "        return Video(video_path)\n",
    "    else:\n",
    "        print(\"Warning: No frames were captured during rendering.\")\n",
    "        return None\n",
    "\n",
    "# Render and save the episode\n",
    "%pip install pygame\n",
    "import pygame\n",
    "from pygame import gfxdraw\n",
    "render_episode(agent, env)"
   ]
  }
 ],
 "metadata": {
  "kernelspec": {
   "display_name": "Python 3",
   "language": "python",
   "name": "python3"
  },
  "language_info": {
   "codemirror_mode": {
    "name": "ipython",
    "version": 3
   },
   "file_extension": ".py",
   "mimetype": "text/x-python",
   "name": "python",
   "nbconvert_exporter": "python",
   "pygments_lexer": "ipython3",
   "version": "3.11.11"
  }
 },
 "nbformat": 4,
 "nbformat_minor": 2
}
